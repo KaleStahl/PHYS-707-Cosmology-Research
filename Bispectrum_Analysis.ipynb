{
 "cells": [
  {
   "cell_type": "code",
   "execution_count": 62,
   "metadata": {},
   "outputs": [],
   "source": [
    "import pickle\n",
    "import numpy as np\n",
    "from matplotlib import pyplot as plt\n",
    "from numpy.fft import fft, ifft\n",
    "import SaveData"
   ]
  },
  {
   "cell_type": "code",
   "execution_count": 66,
   "metadata": {},
   "outputs": [],
   "source": [
    "# Reads files and generates pickled objects to use later\n",
    "N = 256\n",
    "filepath = \"AbacusSummit_c000_LRG_z0.5.txt\"\n",
    "#window = SaveData.makeWindow(N, np.pi/8, N/8)\n",
    "x_dat, y_dat, z_dat = SaveData.readFile(filepath)"
   ]
  },
  {
   "cell_type": "code",
   "execution_count": 60,
   "metadata": {},
   "outputs": [
    {
     "ename": "FileNotFoundError",
     "evalue": "[Errno 2] No such file or directory: 'y_data'",
     "output_type": "error",
     "traceback": [
      "\u001b[1;31m---------------------------------------------------------------------------\u001b[0m",
      "\u001b[1;31mFileNotFoundError\u001b[0m                         Traceback (most recent call last)",
      "Cell \u001b[1;32mIn[60], line 9\u001b[0m\n\u001b[0;32m      7\u001b[0m     x_dat \u001b[39m=\u001b[39m pickle\u001b[39m.\u001b[39mload(inp1)\n\u001b[0;32m      8\u001b[0m ypath \u001b[39m=\u001b[39m \u001b[39m\"\u001b[39m\u001b[39my_data\u001b[39m\u001b[39m\"\u001b[39m\n\u001b[1;32m----> 9\u001b[0m \u001b[39mwith\u001b[39;00m \u001b[39mopen\u001b[39;49m(ypath, \u001b[39m'\u001b[39;49m\u001b[39mrb\u001b[39;49m\u001b[39m'\u001b[39;49m) \u001b[39mas\u001b[39;00m inp2:\n\u001b[0;32m     10\u001b[0m     y_dat \u001b[39m=\u001b[39m pickle\u001b[39m.\u001b[39mload(inp2)\n\u001b[0;32m     11\u001b[0m zpath \u001b[39m=\u001b[39m \u001b[39m\"\u001b[39m\u001b[39mz_data\u001b[39m\u001b[39m\"\u001b[39m\n",
      "File \u001b[1;32m~\\AppData\\Roaming\\Python\\Python311\\site-packages\\IPython\\core\\interactiveshell.py:284\u001b[0m, in \u001b[0;36m_modified_open\u001b[1;34m(file, *args, **kwargs)\u001b[0m\n\u001b[0;32m    277\u001b[0m \u001b[39mif\u001b[39;00m file \u001b[39min\u001b[39;00m {\u001b[39m0\u001b[39m, \u001b[39m1\u001b[39m, \u001b[39m2\u001b[39m}:\n\u001b[0;32m    278\u001b[0m     \u001b[39mraise\u001b[39;00m \u001b[39mValueError\u001b[39;00m(\n\u001b[0;32m    279\u001b[0m         \u001b[39mf\u001b[39m\u001b[39m\"\u001b[39m\u001b[39mIPython won\u001b[39m\u001b[39m'\u001b[39m\u001b[39mt let you open fd=\u001b[39m\u001b[39m{\u001b[39;00mfile\u001b[39m}\u001b[39;00m\u001b[39m by default \u001b[39m\u001b[39m\"\u001b[39m\n\u001b[0;32m    280\u001b[0m         \u001b[39m\"\u001b[39m\u001b[39mas it is likely to crash IPython. If you know what you are doing, \u001b[39m\u001b[39m\"\u001b[39m\n\u001b[0;32m    281\u001b[0m         \u001b[39m\"\u001b[39m\u001b[39myou can use builtins\u001b[39m\u001b[39m'\u001b[39m\u001b[39m open.\u001b[39m\u001b[39m\"\u001b[39m\n\u001b[0;32m    282\u001b[0m     )\n\u001b[1;32m--> 284\u001b[0m \u001b[39mreturn\u001b[39;00m io_open(file, \u001b[39m*\u001b[39;49margs, \u001b[39m*\u001b[39;49m\u001b[39m*\u001b[39;49mkwargs)\n",
      "\u001b[1;31mFileNotFoundError\u001b[0m: [Errno 2] No such file or directory: 'y_data'"
     ]
    }
   ],
   "source": [
    "# Opens already pickled data\n",
    "windowPath = \"window_\" + str(N)\n",
    "with open(windowPath, 'rb') as inp:\n",
    "    window = pickle.load(inp)\n",
    "xpath = \"x_data\"\n",
    "with open(xpath, 'rb') as inp1:\n",
    "    x_dat = pickle.load(inp1)\n",
    "ypath = \"y_data\"\n",
    "with open(ypath, 'rb') as inp2:\n",
    "    y_dat = pickle.load(inp2)\n",
    "zpath = \"z_data\"\n",
    "with open(zpath, 'rb') as inp3:\n",
    "    z_dat = pickle.load(inp3)"
   ]
  },
  {
   "cell_type": "code",
   "execution_count": null,
   "metadata": {},
   "outputs": [],
   "source": [
    "def grid(N, x, y, z):\n",
    "    counts = np.zeros((N, N, N))\n",
    "    start = min(min(x), min(y), min(z))\n",
    "    end = max(max(x), max(y), max(z))\n",
    "    binsize = (end - start)/(N-1)\n",
    "    for i in range(len(x)):\n",
    "        x_bin = int(x[i]/binsize)  \n",
    "        y_bin = int(y[i]/binsize) \n",
    "        z_bin = int(z[i]/binsize)\n",
    "        counts[x_bin, y_bin, z_bin] += 1\n",
    "    return counts"
   ]
  },
  {
   "cell_type": "code",
   "execution_count": null,
   "metadata": {},
   "outputs": [],
   "source": [
    "def grid_ft(grid):\n",
    "    return np.fft.fft(grid)"
   ]
  },
  {
   "cell_type": "code",
   "execution_count": null,
   "metadata": {},
   "outputs": [],
   "source": [
    "def power_spectrum(grid, Nbins, L, dk):\n",
    "    Pk = np.zeros(Nbins)\n",
    "    Nk = np.zeros(Nbins)\n",
    "    Nx, Ny, Nz = grid.shape\n",
    "    kz = np.fft.fftfreq(Nz, L)\n",
    "    for ix in range(Nx):\n",
    "        for iy in range(Ny):\n",
    "            for iz in range(Nz):\n",
    "                k = np.sqrt(grid[ix,iy, iz]**2 + grid[ix,iy,iz]**2 + grid[ix,iy,iz]**2)\n",
    "                mu = kz[iz]/k\n",
    "                bin = int(k/dk)\n",
    "                if (bin > Nbins-1):\n",
    "                    continue\n",
    "                Nk[bin] += 1\n",
    "                Pk[bin] += np.abs(grid[ix, iy, iz])**2\n",
    "    return Pk/Nk*L**3/Nz**6"
   ]
  },
  {
   "cell_type": "code",
   "execution_count": null,
   "metadata": {},
   "outputs": [
    {
     "name": "stderr",
     "output_type": "stream",
     "text": [
      "C:\\Users\\kales\\AppData\\Local\\Temp\\ipykernel_17212\\2402943547.py:11: ComplexWarning: Casting complex values to real discards the imaginary part\n",
      "  bin = int(k/dk)\n",
      "C:\\Users\\kales\\AppData\\Local\\Temp\\ipykernel_17212\\2402943547.py:10: RuntimeWarning: divide by zero encountered in scalar divide\n",
      "  mu = kz[iz]/k\n",
      "C:\\Users\\kales\\AppData\\Local\\Temp\\ipykernel_17212\\2402943547.py:10: RuntimeWarning: invalid value encountered in scalar divide\n",
      "  mu = kz[iz]/k\n"
     ]
    }
   ],
   "source": [
    "counts = grid(N, x_dat, y_dat, z_dat)\n",
    "kcounts = grid_ft(counts)\n",
    "P = power_spectrum(kcounts, 21, 2000, .1)\n",
    "Pwin = power_spectrum(kcounts*window, 21, 2000, .1)"
   ]
  },
  {
   "cell_type": "code",
   "execution_count": null,
   "metadata": {},
   "outputs": [
    {
     "data": {
      "text/plain": [
       "[<matplotlib.lines.Line2D at 0x1678009a510>]"
      ]
     },
     "execution_count": 38,
     "metadata": {},
     "output_type": "execute_result"
    },
    {
     "data": {
      "image/png": "[encoded data removed]",
      "text/plain": [
       "<Figure size 640x480 with 1 Axes>"
      ]
     },
     "metadata": {},
     "output_type": "display_data"
    }
   ],
   "source": [
    "plt.plot(P)\n",
    "plt.ploy(Pwin)"
   ]
  },
  {
   "cell_type": "code",
   "execution_count": null,
   "metadata": {},
   "outputs": [],
   "source": []
  }
 ],
 "metadata": {
  "kernelspec": {
   "display_name": "Python 3",
   "language": "python",
   "name": "python3"
  },
  "language_info": {
   "codemirror_mode": {
    "name": "ipython",
    "version": 3
   },
   "file_extension": ".py",
   "mimetype": "text/x-python",
   "name": "python",
   "nbconvert_exporter": "python",
   "pygments_lexer": "ipython3",
   "version": "3.11.3"
  },
  "orig_nbformat": 4
 },
 "nbformat": 4,
 "nbformat_minor": 2
}
