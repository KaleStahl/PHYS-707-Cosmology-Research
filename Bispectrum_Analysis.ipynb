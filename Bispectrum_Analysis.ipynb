{
 "cells": [
  {
   "cell_type": "code",
   "execution_count": 1,
   "metadata": {},
   "outputs": [],
   "source": [
    "import pickle\n",
    "import numpy as np\n",
    "from matplotlib import pyplot as plt\n",
    "from numpy.fft import fft, ifft\n",
    "import SaveData"
   ]
  },
  {
   "cell_type": "code",
   "execution_count": 4,
   "metadata": {},
   "outputs": [],
   "source": [
    "# Reads files and generates pickled objects to use later\n",
    "N = 256\n",
    "filepath = \"AbacusSummit_c000_LRG_z0.5.txt\"\n",
    "window = SaveData.makeWindow(N, np.pi/8, N/8)\n",
    "x_dat, y_dat, z_dat = SaveData.readFile(filepath)"
   ]
  },
  {
   "cell_type": "code",
   "execution_count": 5,
   "metadata": {},
   "outputs": [],
   "source": [
    "# Opens already pickled data\n",
    "windowPath = \"window_\" + str(N)\n",
    "with open(windowPath, 'rb') as inp:\n",
    "    window = pickle.load(inp)\n",
    "xpath = \"data_x\"\n",
    "with open(xpath, 'rb') as inp1:\n",
    "    x_dat = pickle.load(inp1)\n",
    "ypath = \"data_y\"\n",
    "with open(ypath, 'rb') as inp2:\n",
    "    y_dat = pickle.load(inp2)\n",
    "zpath = \"data_z\"\n",
    "with open(zpath, 'rb') as inp3:\n",
    "    z_dat = pickle.load(inp3)"
   ]
  },
  {
   "cell_type": "code",
   "execution_count": 6,
   "metadata": {},
   "outputs": [],
   "source": [
    "def grid(N, x, y, z):\n",
    "    counts = np.zeros((N, N, N))\n",
    "    start = min(min(x), min(y), min(z))\n",
    "    end = max(max(x), max(y), max(z))\n",
    "    binsize = (end - start)/(N-1)\n",
    "    for i in range(len(x)):\n",
    "        x_bin = int(x[i]/binsize)  \n",
    "        y_bin = int(y[i]/binsize) \n",
    "        z_bin = int(z[i]/binsize)\n",
    "        counts[x_bin, y_bin, z_bin] += 1\n",
    "    return counts"
   ]
  },
  {
   "cell_type": "code",
   "execution_count": 7,
   "metadata": {},
   "outputs": [],
   "source": [
    "def grid_ft(grid):\n",
    "    return np.fft.fft(grid)"
   ]
  },
  {
   "cell_type": "code",
   "execution_count": 25,
   "metadata": {},
   "outputs": [],
   "source": [
    "def power_spectrum(grid, Nbins, L, dk):\n",
    "    Pk = np.zeros(Nbins)\n",
    "    Nk = np.zeros(Nbins)\n",
    "    Nx, Ny, Nz = grid.shape\n",
    "    print(Nz)\n",
    "    kz = np.fft.fftfreq(Nz, Nz/L)\n",
    "    for ix in range(Nx):\n",
    "        for iy in range(Ny):\n",
    "            for iz in range(Nz):\n",
    "                k = np.sqrt(kz[ix]**2 + kz[iy]**2 + kz[iz]**2)\n",
    "                mu = kz[iz]/k\n",
    "                bin = int(k/dk)\n",
    "                if (bin > Nbins-1):\n",
    "                    continue\n",
    "                Nk[bin] += 1\n",
    "                Pk[bin] += np.abs(grid[ix, iy, iz])**2\n",
    "    return Pk/Nk*L**3/Nz**6"
   ]
  },
  {
   "cell_type": "code",
   "execution_count": 26,
   "metadata": {},
   "outputs": [
    {
     "name": "stdout",
     "output_type": "stream",
     "text": [
      "256\n"
     ]
    },
    {
     "name": "stderr",
     "output_type": "stream",
     "text": [
      "C:\\Users\\kales\\AppData\\Local\\Temp\\ipykernel_23960\\2143616490.py:11: RuntimeWarning: invalid value encountered in scalar divide\n",
      "  mu = kz[iz]/k\n"
     ]
    },
    {
     "name": "stdout",
     "output_type": "stream",
     "text": [
      "256\n"
     ]
    }
   ],
   "source": [
    "counts = grid(N, x_dat, y_dat, z_dat)\n",
    "kcounts = grid_ft(counts)\n",
    "P = power_spectrum(kcounts, 21, 2000, .1)\n",
    "Pwin = power_spectrum(kcounts*window, 21, 2000, .1)"
   ]
  },
  {
   "cell_type": "code",
   "execution_count": 28,
   "metadata": {},
   "outputs": [
    {
     "data": {
      "text/plain": [
       "[<matplotlib.lines.Line2D at 0x1c100289d90>]"
      ]
     },
     "execution_count": 28,
     "metadata": {},
     "output_type": "execute_result"
    },
    {
     "data": {
      "image/png": "[encoded data removed]",
      "text/plain": [
       "<Figure size 640x480 with 1 Axes>"
      ]
     },
     "metadata": {},
     "output_type": "display_data"
    }
   ],
   "source": [
    "plt.plot(P)\n",
    "plt.plot(Pwin)"
   ]
  },
  {
   "cell_type": "code",
   "execution_count": null,
   "metadata": {},
   "outputs": [],
   "source": []
  }
 ],
 "metadata": {
  "kernelspec": {
   "display_name": "Python 3",
   "language": "python",
   "name": "python3"
  },
  "language_info": {
   "codemirror_mode": {
    "name": "ipython",
    "version": 3
   },
   "file_extension": ".py",
   "mimetype": "text/x-python",
   "name": "python",
   "nbconvert_exporter": "python",
   "pygments_lexer": "ipython3",
   "version": "3.11.3"
  },
  "orig_nbformat": 4
 },
 "nbformat": 4,
 "nbformat_minor": 2
}
